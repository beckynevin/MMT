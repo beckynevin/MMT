{
 "cells": [
  {
   "cell_type": "code",
   "execution_count": null,
   "metadata": {
    "collapsed": true
   },
   "outputs": [],
   "source": [
    "#import pyfits                                                                                                                                                                                     \n",
    "import matplotlib as plt\n",
    "from pylab import *\n",
    "import numpy as np\n",
    "from decimal import *\n",
    "import numpy\n",
    "from scipy.optimize import curve_fit\n",
    "from scipy.integrate import quad\n",
    "import matplotlib.pyplot as plt\n",
    "#from astropy.modeling import models, fitting                                                                                                                                                      \n",
    "from pylab import *\n",
    "import math\n",
    "from mpl_toolkits.mplot3d import Axes3D\n",
    "#~~~~~~~~~~~~~~~~~~~~~~~~~~~~~~~~~TIME TO DO THE BICONE                                                                                                                                            \n",
    "\n",
    "\n",
    "\n",
    "\n",
    "\n",
    "name='J0749'\n",
    "if name=='J0749':\n",
    "    PA_1='Wang008_PA87, J0749_table_contfitcoords_outflow_J0750_alt_redshift_shift.txt'\n",
    "    PA_2='Wang008_PA177, J0749_table_contfitcoords_outflow_J0750_alt_redshift_shift.txt'\n",
    "\n",
    "    pixelscale_1=0.288\n",
    "    pixelscale_2=0.288\n",
    "\n",
    "    slitwidth=1.5\n",
    "\n",
    "    PA1=87\n",
    "    PA2=177\n",
    "\n",
    "\n",
    "    lower_lim=17\n",
    "    upper_lim=24\n",
    "    lower_lim_ortho=14#ws 7                                                                                                                                                                        \n",
    "    upper_lim_ortho=28\n",
    "\n",
    "    slitwidth=1.5\n",
    "    pixelscale=0.288\n",
    "\n",
    "    #pixelscale=0.1                                                                                                                                                                                \n",
    "    minus_one=0\n",
    "    low_1=0\n",
    "    low_2=0\n",
    "    up_1=20\n",
    "    up_2=20\n",
    "\n",
    "\n"
   ]
  }
 ],
 "metadata": {
  "kernelspec": {
   "display_name": "Python 3",
   "language": "python",
   "name": "python3"
  },
  "language_info": {
   "codemirror_mode": {
    "name": "ipython",
    "version": 3
   },
   "file_extension": ".py",
   "mimetype": "text/x-python",
   "name": "python",
   "nbconvert_exporter": "python",
   "pygments_lexer": "ipython3",
   "version": "3.6.0"
  }
 },
 "nbformat": 4,
 "nbformat_minor": 2
}
